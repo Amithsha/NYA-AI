{
 "cells": [
  {
   "cell_type": "code",
   "execution_count": 3,
   "metadata": {},
   "outputs": [
    {
     "name": "stderr",
     "output_type": "stream",
     "text": [
      "c:\\Users\\asthaagarwal\\AppData\\Local\\anaconda3\\Lib\\site-packages\\pydub\\utils.py:170: RuntimeWarning: Couldn't find ffmpeg or avconv - defaulting to ffmpeg, but may not work\n",
      "  warn(\"Couldn't find ffmpeg or avconv - defaulting to ffmpeg, but may not work\", RuntimeWarning)\n"
     ]
    }
   ],
   "source": [
    "#Copyright (c) Microsoft. All rights reserved.\n",
    "import logging\n",
    "import os\n",
    "import azure.cognitiveservices.speech as speechsdk\n",
    "from pydub import AudioSegment\n",
    "from langchain.docstore.document import Document\n",
    "from scipy.io import wavfile\n",
    "import time\n",
    "\n",
    "import os\n",
    "\n",
    "from azure.core.credentials import AzureKeyCredential\n",
    "from azure.search.documents import SearchClient\n",
    "from azure.search.documents.indexes import SearchIndexClient\n",
    "from openai import AzureOpenAI"
   ]
  },
  {
   "cell_type": "code",
   "execution_count": 4,
   "metadata": {},
   "outputs": [],
   "source": [
    "# Speech to English text for audio file\n",
    "def translation_once_from_file(filename):\n",
    "    \"\"\"performs one-shot speech translation from input from an audio file\"\"\"\n",
    "    # <TranslationOnceWithFile>\n",
    "    # set up translation parameters: source language and target languages\n",
    "    translation_config = speechsdk.translation.SpeechTranslationConfig(\n",
    "        subscription=\"0ab292a969f64bcd91883645944bb66d\", region= \"eastus\",\n",
    "        speech_recognition_language='kn-IN')\n",
    "    translation_config.add_target_language(\"en\")\n",
    "    translation_config.add_target_language(\"fr\")\n",
    "    audio_config = speechsdk.audio.AudioConfig(filename=filename)\n",
    "\n",
    "    # Creates a translation recognizer using and audio file as input.\n",
    "    recognizer = speechsdk.translation.TranslationRecognizer(\n",
    "        translation_config=translation_config, audio_config=audio_config)\n",
    "\n",
    "    # Starts translation, and returns after a single utterance is recognized. The end of a\n",
    "    # single utterance is determined by listening for silence at the end or until a maximum of 15\n",
    "    # seconds of audio is processed. The task returns the recognition text as result.\n",
    "    # Note: Since recognize_once() returns only a single utterance, it is suitable only for single\n",
    "    # shot recognition like command or query.\n",
    "    # For long-running multi-utterance recognition, use start_continuous_recognition() instead.\n",
    "    result = recognizer.recognize_once()\n",
    "\n",
    "    # Check the result\n",
    "    if result.reason == speechsdk.ResultReason.TranslatedSpeech:\n",
    "        print(\"TranslatedSpeech Recognized\")\n",
    "        text = result.translations['en']\n",
    "    elif result.reason == speechsdk.ResultReason.RecognizedSpeech:\n",
    "        print(\"Recognized: {}\".format(result.text))\n",
    "    elif result.reason == speechsdk.ResultReason.NoMatch:\n",
    "        print(\"No speech could be recognized: {}\".format(result.no_match_details))\n",
    "    elif result.reason == speechsdk.ResultReason.Canceled:\n",
    "        print(\"Translation canceled: {}\".format(result.cancellation_details.reason))\n",
    "        if result.cancellation_details.reason == speechsdk.CancellationReason.Error:\n",
    "            print(\"Error details: {}\".format(result.cancellation_details.error_details))\n",
    "\n",
    "    text = result.translations['en']\n",
    "    # docs = [Document(page_content=text)]\n",
    "    return text"
   ]
  },
  {
   "cell_type": "code",
   "execution_count": 5,
   "metadata": {},
   "outputs": [],
   "source": [
    "service_endpoint =  \n",
    "index_name =    #os.getenv(\"AZURE_SEARCH_INDEX_NAME\")\n",
    "key =   \n",
    "open_ai_endpoint =\n",
    "open_ai_key =  \n",
    "openai_api_version =   '2024-05-01-preview'\n",
    "embed_model_id =  \"text-embedding-ada-002\""
   ]
  },
  {
   "cell_type": "code",
   "execution_count": 6,
   "metadata": {},
   "outputs": [
    {
     "ename": "ImportError",
     "evalue": "cannot import name 'AzureOpenAIParameters' from 'azure.search.documents.indexes.models' (c:\\Users\\asthaagarwal\\AppData\\Local\\anaconda3\\Lib\\site-packages\\azure\\search\\documents\\indexes\\models\\__init__.py)",
     "output_type": "error",
     "traceback": [
      "\u001b[1;31m---------------------------------------------------------------------------\u001b[0m",
      "\u001b[1;31mImportError\u001b[0m                               Traceback (most recent call last)",
      "Cell \u001b[1;32mIn[6], line 2\u001b[0m\n\u001b[0;32m      1\u001b[0m \u001b[38;5;28;01mfrom\u001b[39;00m \u001b[38;5;21;01mazure\u001b[39;00m\u001b[38;5;21;01m.\u001b[39;00m\u001b[38;5;21;01msearch\u001b[39;00m\u001b[38;5;21;01m.\u001b[39;00m\u001b[38;5;21;01mdocuments\u001b[39;00m\u001b[38;5;21;01m.\u001b[39;00m\u001b[38;5;21;01mindexes\u001b[39;00m \u001b[38;5;28;01mimport\u001b[39;00m SearchIndexClient\n\u001b[1;32m----> 2\u001b[0m \u001b[38;5;28;01mfrom\u001b[39;00m \u001b[38;5;21;01mazure\u001b[39;00m\u001b[38;5;21;01m.\u001b[39;00m\u001b[38;5;21;01msearch\u001b[39;00m\u001b[38;5;21;01m.\u001b[39;00m\u001b[38;5;21;01mdocuments\u001b[39;00m\u001b[38;5;21;01m.\u001b[39;00m\u001b[38;5;21;01mindexes\u001b[39;00m\u001b[38;5;21;01m.\u001b[39;00m\u001b[38;5;21;01mmodels\u001b[39;00m \u001b[38;5;28;01mimport\u001b[39;00m (\n\u001b[0;32m      3\u001b[0m     SimpleField,\n\u001b[0;32m      4\u001b[0m     SearchFieldDataType,\n\u001b[0;32m      5\u001b[0m     SearchableField,\n\u001b[0;32m      6\u001b[0m     SearchField,\n\u001b[0;32m      7\u001b[0m     VectorSearch,\n\u001b[0;32m      8\u001b[0m     HnswAlgorithmConfiguration,\n\u001b[0;32m      9\u001b[0m     VectorSearchProfile,\n\u001b[0;32m     10\u001b[0m     SemanticConfiguration,\n\u001b[0;32m     11\u001b[0m     SemanticPrioritizedFields,\n\u001b[0;32m     12\u001b[0m     SemanticField,\n\u001b[0;32m     13\u001b[0m     SemanticSearch,\n\u001b[0;32m     14\u001b[0m     SearchIndex,\n\u001b[0;32m     15\u001b[0m     AzureOpenAIVectorizer,\n\u001b[0;32m     16\u001b[0m     AzureOpenAIParameters\n\u001b[0;32m     17\u001b[0m )\n",
      "\u001b[1;31mImportError\u001b[0m: cannot import name 'AzureOpenAIParameters' from 'azure.search.documents.indexes.models' (c:\\Users\\asthaagarwal\\AppData\\Local\\anaconda3\\Lib\\site-packages\\azure\\search\\documents\\indexes\\models\\__init__.py)"
     ]
    }
   ],
   "source": [
    "from azure.search.documents.indexes import SearchIndexClient\n",
    "from azure.search.documents.indexes.models import (\n",
    "    SimpleField,\n",
    "    SearchFieldDataType,\n",
    "    SearchableField,\n",
    "    SearchField,\n",
    "    VectorSearch,\n",
    "    HnswAlgorithmConfiguration,\n",
    "    VectorSearchProfile,\n",
    "    SemanticConfiguration,\n",
    "    SemanticPrioritizedFields,\n",
    "    SemanticField,\n",
    "    SemanticSearch,\n",
    "    SearchIndex,\n",
    "    AzureOpenAIVectorizer,\n",
    "    AzureOpenAIParameters\n",
    ")\n",
    "\n"
   ]
  },
  {
   "cell_type": "code",
   "execution_count": 2,
   "metadata": {},
   "outputs": [
    {
     "ename": "NameError",
     "evalue": "name 'open_ai_endpoint' is not defined",
     "output_type": "error",
     "traceback": [
      "\u001b[1;31m---------------------------------------------------------------------------\u001b[0m",
      "\u001b[1;31mNameError\u001b[0m                                 Traceback (most recent call last)",
      "Cell \u001b[1;32mIn[2], line 3\u001b[0m\n\u001b[0;32m      1\u001b[0m \u001b[38;5;66;03m# Create a search index\u001b[39;00m\n\u001b[0;32m      2\u001b[0m index_client \u001b[38;5;241m=\u001b[39m SearchIndexClient(\n\u001b[1;32m----> 3\u001b[0m     endpoint\u001b[38;5;241m=\u001b[39mopen_ai_endpoint, credential\u001b[38;5;241m=\u001b[39mopen_ai_key)\n\u001b[0;32m      4\u001b[0m fields \u001b[38;5;241m=\u001b[39m [\n\u001b[0;32m      5\u001b[0m     SimpleField(name\u001b[38;5;241m=\u001b[39m\u001b[38;5;124m\"\u001b[39m\u001b[38;5;124mid\u001b[39m\u001b[38;5;124m\"\u001b[39m, \u001b[38;5;28mtype\u001b[39m\u001b[38;5;241m=\u001b[39mSearchFieldDataType\u001b[38;5;241m.\u001b[39mString, key\u001b[38;5;241m=\u001b[39m\u001b[38;5;28;01mTrue\u001b[39;00m, sortable\u001b[38;5;241m=\u001b[39m\u001b[38;5;28;01mTrue\u001b[39;00m, filterable\u001b[38;5;241m=\u001b[39m\u001b[38;5;28;01mTrue\u001b[39;00m, facetable\u001b[38;5;241m=\u001b[39m\u001b[38;5;28;01mTrue\u001b[39;00m),\n\u001b[0;32m      6\u001b[0m     SearchableField(name\u001b[38;5;241m=\u001b[39m\u001b[38;5;124m\"\u001b[39m\u001b[38;5;124mtitle\u001b[39m\u001b[38;5;124m\"\u001b[39m, \u001b[38;5;28mtype\u001b[39m\u001b[38;5;241m=\u001b[39mSearchFieldDataType\u001b[38;5;241m.\u001b[39mString),\n\u001b[1;32m   (...)\u001b[0m\n\u001b[0;32m     11\u001b[0m                 searchable\u001b[38;5;241m=\u001b[39m\u001b[38;5;28;01mTrue\u001b[39;00m, vector_search_dimensions\u001b[38;5;241m=\u001b[39m\u001b[38;5;241m1532\u001b[39m, vector_search_profile_name\u001b[38;5;241m=\u001b[39m\u001b[38;5;124m\"\u001b[39m\u001b[38;5;124mmyHnswProfile\u001b[39m\u001b[38;5;124m\"\u001b[39m),\n\u001b[0;32m     12\u001b[0m ]\n\u001b[0;32m     14\u001b[0m \u001b[38;5;66;03m# Configure the vector search configuration  \u001b[39;00m\n",
      "\u001b[1;31mNameError\u001b[0m: name 'open_ai_endpoint' is not defined"
     ]
    }
   ],
   "source": [
    "\n",
    "# Create a search index\n",
    "index_client = SearchIndexClient(\n",
    "    endpoint=open_ai_endpoint, credential=open_ai_key)\n",
    "fields = [\n",
    "    SimpleField(name=\"id\", type=SearchFieldDataType.String, key=True, sortable=True, filterable=True, facetable=True),\n",
    "    SearchableField(name=\"title\", type=SearchFieldDataType.String),\n",
    "    SearchableField(name=\"content\", type=SearchFieldDataType.String),\n",
    "    SearchField(name=\"titleVector\", type=SearchFieldDataType.Collection(SearchFieldDataType.Single),\n",
    "                searchable=True, vector_search_dimensions=1532, vector_search_profile_name=\"myHnswProfile\"),\n",
    "    SearchField(name=\"contentVector\", type=SearchFieldDataType.Collection(SearchFieldDataType.Single),\n",
    "                searchable=True, vector_search_dimensions=1532, vector_search_profile_name=\"myHnswProfile\"),\n",
    "]\n",
    "\n",
    "# Configure the vector search configuration  \n",
    "vector_search = VectorSearch(\n",
    "    algorithms=[\n",
    "        HnswAlgorithmConfiguration(\n",
    "            name=\"myHnsw\"\n",
    "        )\n",
    "    ],\n",
    "    profiles=[\n",
    "        VectorSearchProfile(\n",
    "            name=\"myHnswProfile\",\n",
    "            algorithm_configuration_name=\"myHnsw\",\n",
    "            vectorizer=\"myVectorizer\"\n",
    "        )\n",
    "    ],\n",
    "    vectorizers=[\n",
    "        AzureOpenAIVectorizer(\n",
    "            name=\"myVectorizer\",\n",
    "            azure_open_ai_parameters=AzureOpenAIParameters(\n",
    "                resource_uri=open_ai_endpoint,\n",
    "                deployment_id=embed_model_id,\n",
    "                model_name=embed_model_id,\n",
    "                api_key=open_ai_key\n",
    "            )\n",
    "        )\n",
    "    ]\n",
    ")\n",
    "\n",
    "semantic_config = SemanticConfiguration(\n",
    "    name=\"my-semantic-config\",\n",
    "    prioritized_fields=SemanticPrioritizedFields(\n",
    "        title_field=SemanticField(field_name=\"title\"),\n",
    "        content_fields=[SemanticField(field_name=\"content\")]\n",
    "    )\n",
    ")\n",
    "\n",
    "# Create the semantic settings with the configuration\n",
    "semantic_search = SemanticSearch(configurations=[semantic_config])\n",
    "\n",
    "# Create the search index with the semantic settings\n",
    "index = SearchIndex(name=index_name, fields=fields,\n",
    "                    vector_search=vector_search, semantic_search=semantic_search)\n",
    "result = index_client.create_or_update_index(index)\n",
    "print(f' {result.name} created')"
   ]
  },
  {
   "cell_type": "code",
   "execution_count": 25,
   "metadata": {},
   "outputs": [],
   "source": [
    "# Load data in cognitive search\n",
    "\n",
    "# Create index in cognitive search\n",
    "def create_index(name: str):\n",
    "    from azure.search.documents.indexes.models import (\n",
    "        SearchIndex,\n",
    "        SearchField,\n",
    "        SearchFieldDataType,\n",
    "        SimpleField,\n",
    "        SearchableField,\n",
    "        VectorSearch,\n",
    "        VectorSearchAlgorithmConfiguration,\n",
    "    )\n",
    "\n",
    "    fields = [\n",
    "        SimpleField(name=\"Id\", type=SearchFieldDataType.String, key=True),\n",
    "        SearchableField(name=\"description\", type=SearchFieldDataType.String),\n",
    "        SearchField(\n",
    "            name=\"DescriptionVector\",\n",
    "            type=SearchFieldDataType.Collection(SearchFieldDataType.Single),\n",
    "            searchable=True,\n",
    "            dimensions=1536,\n",
    "            vector_search_configuration=\"default\",\n",
    "        )\n",
    "    ]\n",
    "    vector_search = VectorSearch(\n",
    "        algorithm_configurations=[VectorSearchAlgorithmConfiguration(name=\"default\", kind=\"hnsw\")]\n",
    "    )\n",
    "    return SearchIndex(name=name, fields=fields, vector_search=vector_search)\n",
    "\n",
    "# Prepare documents for ingestion in cognitive search index\n",
    "def get_documents(filenames):\n",
    "    docs=[]\n",
    "    for filename in filenames:\n",
    "        # Extract data from audio file\n",
    "        text = translation_once_from_file(filename)\n",
    "        docs.append(\n",
    "            {\n",
    "                \"Id\": filename,\n",
    "                \"description\": text,\n",
    "                \"DescriptionVector\": get_embeddings(text)\n",
    "            }\n",
    "        )\n",
    "    return docs"
   ]
  },
  {
   "cell_type": "code",
   "execution_count": 26,
   "metadata": {},
   "outputs": [
    {
     "ename": "ImportError",
     "evalue": "cannot import name 'VectorSearchAlgorithmConfiguration' from 'azure.search.documents.indexes.models' (c:\\Users\\asthaagarwal\\AppData\\Local\\anaconda3\\Lib\\site-packages\\azure\\search\\documents\\indexes\\models\\__init__.py)",
     "output_type": "error",
     "traceback": [
      "\u001b[1;31m---------------------------------------------------------------------------\u001b[0m",
      "\u001b[1;31mImportError\u001b[0m                               Traceback (most recent call last)",
      "Cell \u001b[1;32mIn[26], line 1\u001b[0m\n\u001b[1;32m----> 1\u001b[0m index \u001b[38;5;241m=\u001b[39m create_index(index_name)\n",
      "Cell \u001b[1;32mIn[25], line 5\u001b[0m, in \u001b[0;36mcreate_index\u001b[1;34m(name)\u001b[0m\n\u001b[0;32m      4\u001b[0m \u001b[38;5;28;01mdef\u001b[39;00m \u001b[38;5;21mcreate_index\u001b[39m(name: \u001b[38;5;28mstr\u001b[39m):\n\u001b[1;32m----> 5\u001b[0m     \u001b[38;5;28;01mfrom\u001b[39;00m \u001b[38;5;21;01mazure\u001b[39;00m\u001b[38;5;21;01m.\u001b[39;00m\u001b[38;5;21;01msearch\u001b[39;00m\u001b[38;5;21;01m.\u001b[39;00m\u001b[38;5;21;01mdocuments\u001b[39;00m\u001b[38;5;21;01m.\u001b[39;00m\u001b[38;5;21;01mindexes\u001b[39;00m\u001b[38;5;21;01m.\u001b[39;00m\u001b[38;5;21;01mmodels\u001b[39;00m \u001b[38;5;28;01mimport\u001b[39;00m (\n\u001b[0;32m      6\u001b[0m         SearchIndex,\n\u001b[0;32m      7\u001b[0m         SearchField,\n\u001b[0;32m      8\u001b[0m         SearchFieldDataType,\n\u001b[0;32m      9\u001b[0m         SimpleField,\n\u001b[0;32m     10\u001b[0m         SearchableField,\n\u001b[0;32m     11\u001b[0m         VectorSearch,\n\u001b[0;32m     12\u001b[0m         VectorSearchAlgorithmConfiguration,\n\u001b[0;32m     13\u001b[0m     )\n\u001b[0;32m     15\u001b[0m     fields \u001b[38;5;241m=\u001b[39m [\n\u001b[0;32m     16\u001b[0m         SimpleField(name\u001b[38;5;241m=\u001b[39m\u001b[38;5;124m\"\u001b[39m\u001b[38;5;124mId\u001b[39m\u001b[38;5;124m\"\u001b[39m, \u001b[38;5;28mtype\u001b[39m\u001b[38;5;241m=\u001b[39mSearchFieldDataType\u001b[38;5;241m.\u001b[39mString, key\u001b[38;5;241m=\u001b[39m\u001b[38;5;28;01mTrue\u001b[39;00m),\n\u001b[0;32m     17\u001b[0m         SearchableField(name\u001b[38;5;241m=\u001b[39m\u001b[38;5;124m\"\u001b[39m\u001b[38;5;124mdescription\u001b[39m\u001b[38;5;124m\"\u001b[39m, \u001b[38;5;28mtype\u001b[39m\u001b[38;5;241m=\u001b[39mSearchFieldDataType\u001b[38;5;241m.\u001b[39mString),\n\u001b[1;32m   (...)\u001b[0m\n\u001b[0;32m     24\u001b[0m         )\n\u001b[0;32m     25\u001b[0m     ]\n\u001b[0;32m     26\u001b[0m     vector_search \u001b[38;5;241m=\u001b[39m VectorSearch(\n\u001b[0;32m     27\u001b[0m         algorithm_configurations\u001b[38;5;241m=\u001b[39m[VectorSearchAlgorithmConfiguration(name\u001b[38;5;241m=\u001b[39m\u001b[38;5;124m\"\u001b[39m\u001b[38;5;124mdefault\u001b[39m\u001b[38;5;124m\"\u001b[39m, kind\u001b[38;5;241m=\u001b[39m\u001b[38;5;124m\"\u001b[39m\u001b[38;5;124mhnsw\u001b[39m\u001b[38;5;124m\"\u001b[39m)]\n\u001b[0;32m     28\u001b[0m     )\n",
      "\u001b[1;31mImportError\u001b[0m: cannot import name 'VectorSearchAlgorithmConfiguration' from 'azure.search.documents.indexes.models' (c:\\Users\\asthaagarwal\\AppData\\Local\\anaconda3\\Lib\\site-packages\\azure\\search\\documents\\indexes\\models\\__init__.py)"
     ]
    }
   ],
   "source": [
    "index = create_index(index_name)"
   ]
  },
  {
   "cell_type": "code",
   "execution_count": null,
   "metadata": {},
   "outputs": [],
   "source": [
    "def getSearchClient(index_name):\n",
    "    credential = AzureKeyCredential(key)\n",
    "    # index_client = SearchIndexClient(service_endpoint, credential)\n",
    "    # print(index_name)\n",
    "\n",
    "    # index = create_index(index_name)\n",
    "\n",
    "\n",
    "    # print(index)\n",
    "    # index_client.create_index(index)\n",
    "\n",
    "    client = SearchClient(service_endpoint, index_name, credential)\n",
    "    # print(client)\n",
    "    return client"
   ]
  }
 ],
 "metadata": {
  "kernelspec": {
   "display_name": "base",
   "language": "python",
   "name": "python3"
  },
  "language_info": {
   "codemirror_mode": {
    "name": "ipython",
    "version": 3
   },
   "file_extension": ".py",
   "mimetype": "text/x-python",
   "name": "python",
   "nbconvert_exporter": "python",
   "pygments_lexer": "ipython3",
   "version": "3.11.5"
  }
 },
 "nbformat": 4,
 "nbformat_minor": 2
}
